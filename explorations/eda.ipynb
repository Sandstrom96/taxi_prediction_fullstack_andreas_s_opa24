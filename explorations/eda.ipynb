{
 "cells": [
  {
   "cell_type": "code",
   "execution_count": 11,
   "id": "ca7d714a",
   "metadata": {},
   "outputs": [
    {
     "data": {
      "text/html": [
       "<div>\n",
       "<style scoped>\n",
       "    .dataframe tbody tr th:only-of-type {\n",
       "        vertical-align: middle;\n",
       "    }\n",
       "\n",
       "    .dataframe tbody tr th {\n",
       "        vertical-align: top;\n",
       "    }\n",
       "\n",
       "    .dataframe thead th {\n",
       "        text-align: right;\n",
       "    }\n",
       "</style>\n",
       "<table border=\"1\" class=\"dataframe\">\n",
       "  <thead>\n",
       "    <tr style=\"text-align: right;\">\n",
       "      <th></th>\n",
       "      <th>Trip_Distance_km</th>\n",
       "      <th>Time_of_Day</th>\n",
       "      <th>Day_of_Week</th>\n",
       "      <th>Passenger_Count</th>\n",
       "      <th>Traffic_Conditions</th>\n",
       "      <th>Weather</th>\n",
       "      <th>Base_Fare</th>\n",
       "      <th>Per_Km_Rate</th>\n",
       "      <th>Per_Minute_Rate</th>\n",
       "      <th>Trip_Duration_Minutes</th>\n",
       "      <th>Trip_Price</th>\n",
       "    </tr>\n",
       "  </thead>\n",
       "  <tbody>\n",
       "    <tr>\n",
       "      <th>0</th>\n",
       "      <td>19.35</td>\n",
       "      <td>Morning</td>\n",
       "      <td>Weekday</td>\n",
       "      <td>3.0</td>\n",
       "      <td>Low</td>\n",
       "      <td>Clear</td>\n",
       "      <td>3.56</td>\n",
       "      <td>0.80</td>\n",
       "      <td>0.32</td>\n",
       "      <td>53.82</td>\n",
       "      <td>36.2624</td>\n",
       "    </tr>\n",
       "    <tr>\n",
       "      <th>1</th>\n",
       "      <td>47.59</td>\n",
       "      <td>Afternoon</td>\n",
       "      <td>Weekday</td>\n",
       "      <td>1.0</td>\n",
       "      <td>High</td>\n",
       "      <td>Clear</td>\n",
       "      <td>NaN</td>\n",
       "      <td>0.62</td>\n",
       "      <td>0.43</td>\n",
       "      <td>40.57</td>\n",
       "      <td>NaN</td>\n",
       "    </tr>\n",
       "    <tr>\n",
       "      <th>2</th>\n",
       "      <td>36.87</td>\n",
       "      <td>Evening</td>\n",
       "      <td>Weekend</td>\n",
       "      <td>1.0</td>\n",
       "      <td>High</td>\n",
       "      <td>Clear</td>\n",
       "      <td>2.70</td>\n",
       "      <td>1.21</td>\n",
       "      <td>0.15</td>\n",
       "      <td>37.27</td>\n",
       "      <td>52.9032</td>\n",
       "    </tr>\n",
       "    <tr>\n",
       "      <th>3</th>\n",
       "      <td>30.33</td>\n",
       "      <td>Evening</td>\n",
       "      <td>Weekday</td>\n",
       "      <td>4.0</td>\n",
       "      <td>Low</td>\n",
       "      <td>NaN</td>\n",
       "      <td>3.48</td>\n",
       "      <td>0.51</td>\n",
       "      <td>0.15</td>\n",
       "      <td>116.81</td>\n",
       "      <td>36.4698</td>\n",
       "    </tr>\n",
       "    <tr>\n",
       "      <th>4</th>\n",
       "      <td>NaN</td>\n",
       "      <td>Evening</td>\n",
       "      <td>Weekday</td>\n",
       "      <td>3.0</td>\n",
       "      <td>High</td>\n",
       "      <td>Clear</td>\n",
       "      <td>2.93</td>\n",
       "      <td>0.63</td>\n",
       "      <td>0.32</td>\n",
       "      <td>22.64</td>\n",
       "      <td>15.6180</td>\n",
       "    </tr>\n",
       "  </tbody>\n",
       "</table>\n",
       "</div>"
      ],
      "text/plain": [
       "   Trip_Distance_km Time_of_Day Day_of_Week  Passenger_Count  \\\n",
       "0             19.35     Morning     Weekday              3.0   \n",
       "1             47.59   Afternoon     Weekday              1.0   \n",
       "2             36.87     Evening     Weekend              1.0   \n",
       "3             30.33     Evening     Weekday              4.0   \n",
       "4               NaN     Evening     Weekday              3.0   \n",
       "\n",
       "  Traffic_Conditions Weather  Base_Fare  Per_Km_Rate  Per_Minute_Rate  \\\n",
       "0                Low   Clear       3.56         0.80             0.32   \n",
       "1               High   Clear        NaN         0.62             0.43   \n",
       "2               High   Clear       2.70         1.21             0.15   \n",
       "3                Low     NaN       3.48         0.51             0.15   \n",
       "4               High   Clear       2.93         0.63             0.32   \n",
       "\n",
       "   Trip_Duration_Minutes  Trip_Price  \n",
       "0                  53.82     36.2624  \n",
       "1                  40.57         NaN  \n",
       "2                  37.27     52.9032  \n",
       "3                 116.81     36.4698  \n",
       "4                  22.64     15.6180  "
      ]
     },
     "execution_count": 11,
     "metadata": {},
     "output_type": "execute_result"
    }
   ],
   "source": [
    "import pandas as pd\n",
    "\n",
    "df = pd.read_csv(\"../src/taxipred/data/taxi_trip_pricing.csv\")\n",
    "df.head()"
   ]
  },
  {
   "cell_type": "markdown",
   "id": "29a340a0",
   "metadata": {},
   "source": [
    "##  Trip price calculation\n",
    "After looking at the columns I tried to work out the calculations for trip price.\n",
    "I worked out the the trip price equals ```base fare + (trip distance km * per km rate) + (trip duration minutes * per minute rate)```"
   ]
  },
  {
   "cell_type": "code",
   "execution_count": 12,
   "id": "6815ebf7",
   "metadata": {},
   "outputs": [
    {
     "name": "stdout",
     "output_type": "stream",
     "text": [
      "<class 'pandas.core.frame.DataFrame'>\n",
      "RangeIndex: 1000 entries, 0 to 999\n",
      "Data columns (total 11 columns):\n",
      " #   Column                 Non-Null Count  Dtype  \n",
      "---  ------                 --------------  -----  \n",
      " 0   Trip_Distance_km       950 non-null    float64\n",
      " 1   Time_of_Day            950 non-null    object \n",
      " 2   Day_of_Week            950 non-null    object \n",
      " 3   Passenger_Count        950 non-null    float64\n",
      " 4   Traffic_Conditions     950 non-null    object \n",
      " 5   Weather                950 non-null    object \n",
      " 6   Base_Fare              950 non-null    float64\n",
      " 7   Per_Km_Rate            950 non-null    float64\n",
      " 8   Per_Minute_Rate        950 non-null    float64\n",
      " 9   Trip_Duration_Minutes  950 non-null    float64\n",
      " 10  Trip_Price             951 non-null    float64\n",
      "dtypes: float64(7), object(4)\n",
      "memory usage: 86.1+ KB\n"
     ]
    }
   ],
   "source": [
    "df.info()"
   ]
  },
  {
   "cell_type": "code",
   "execution_count": 13,
   "id": "1ba4ecdb",
   "metadata": {},
   "outputs": [
    {
     "data": {
      "text/html": [
       "<div>\n",
       "<style scoped>\n",
       "    .dataframe tbody tr th:only-of-type {\n",
       "        vertical-align: middle;\n",
       "    }\n",
       "\n",
       "    .dataframe tbody tr th {\n",
       "        vertical-align: top;\n",
       "    }\n",
       "\n",
       "    .dataframe thead th {\n",
       "        text-align: right;\n",
       "    }\n",
       "</style>\n",
       "<table border=\"1\" class=\"dataframe\">\n",
       "  <thead>\n",
       "    <tr style=\"text-align: right;\">\n",
       "      <th></th>\n",
       "      <th>mean</th>\n",
       "      <th>std</th>\n",
       "      <th>min</th>\n",
       "      <th>25%</th>\n",
       "      <th>50%</th>\n",
       "      <th>75%</th>\n",
       "      <th>max</th>\n",
       "    </tr>\n",
       "  </thead>\n",
       "  <tbody>\n",
       "    <tr>\n",
       "      <th>Trip_Distance_km</th>\n",
       "      <td>27.070547</td>\n",
       "      <td>19.905300</td>\n",
       "      <td>1.2300</td>\n",
       "      <td>12.63250</td>\n",
       "      <td>25.8300</td>\n",
       "      <td>38.40500</td>\n",
       "      <td>146.067047</td>\n",
       "    </tr>\n",
       "    <tr>\n",
       "      <th>Passenger_Count</th>\n",
       "      <td>2.476842</td>\n",
       "      <td>1.102249</td>\n",
       "      <td>1.0000</td>\n",
       "      <td>1.25000</td>\n",
       "      <td>2.0000</td>\n",
       "      <td>3.00000</td>\n",
       "      <td>4.000000</td>\n",
       "    </tr>\n",
       "    <tr>\n",
       "      <th>Base_Fare</th>\n",
       "      <td>3.502989</td>\n",
       "      <td>0.870162</td>\n",
       "      <td>2.0100</td>\n",
       "      <td>2.73000</td>\n",
       "      <td>3.5200</td>\n",
       "      <td>4.26000</td>\n",
       "      <td>5.000000</td>\n",
       "    </tr>\n",
       "    <tr>\n",
       "      <th>Per_Km_Rate</th>\n",
       "      <td>1.233316</td>\n",
       "      <td>0.429816</td>\n",
       "      <td>0.5000</td>\n",
       "      <td>0.86000</td>\n",
       "      <td>1.2200</td>\n",
       "      <td>1.61000</td>\n",
       "      <td>2.000000</td>\n",
       "    </tr>\n",
       "    <tr>\n",
       "      <th>Per_Minute_Rate</th>\n",
       "      <td>0.292916</td>\n",
       "      <td>0.115592</td>\n",
       "      <td>0.1000</td>\n",
       "      <td>0.19000</td>\n",
       "      <td>0.2900</td>\n",
       "      <td>0.39000</td>\n",
       "      <td>0.500000</td>\n",
       "    </tr>\n",
       "    <tr>\n",
       "      <th>Trip_Duration_Minutes</th>\n",
       "      <td>62.118116</td>\n",
       "      <td>32.154406</td>\n",
       "      <td>5.0100</td>\n",
       "      <td>35.88250</td>\n",
       "      <td>61.8600</td>\n",
       "      <td>89.05500</td>\n",
       "      <td>119.840000</td>\n",
       "    </tr>\n",
       "    <tr>\n",
       "      <th>Trip_Price</th>\n",
       "      <td>56.874773</td>\n",
       "      <td>40.469791</td>\n",
       "      <td>6.1269</td>\n",
       "      <td>33.74265</td>\n",
       "      <td>50.0745</td>\n",
       "      <td>69.09935</td>\n",
       "      <td>332.043689</td>\n",
       "    </tr>\n",
       "  </tbody>\n",
       "</table>\n",
       "</div>"
      ],
      "text/plain": [
       "                            mean        std     min       25%      50%  \\\n",
       "Trip_Distance_km       27.070547  19.905300  1.2300  12.63250  25.8300   \n",
       "Passenger_Count         2.476842   1.102249  1.0000   1.25000   2.0000   \n",
       "Base_Fare               3.502989   0.870162  2.0100   2.73000   3.5200   \n",
       "Per_Km_Rate             1.233316   0.429816  0.5000   0.86000   1.2200   \n",
       "Per_Minute_Rate         0.292916   0.115592  0.1000   0.19000   0.2900   \n",
       "Trip_Duration_Minutes  62.118116  32.154406  5.0100  35.88250  61.8600   \n",
       "Trip_Price             56.874773  40.469791  6.1269  33.74265  50.0745   \n",
       "\n",
       "                            75%         max  \n",
       "Trip_Distance_km       38.40500  146.067047  \n",
       "Passenger_Count         3.00000    4.000000  \n",
       "Base_Fare               4.26000    5.000000  \n",
       "Per_Km_Rate             1.61000    2.000000  \n",
       "Per_Minute_Rate         0.39000    0.500000  \n",
       "Trip_Duration_Minutes  89.05500  119.840000  \n",
       "Trip_Price             69.09935  332.043689  "
      ]
     },
     "execution_count": 13,
     "metadata": {},
     "output_type": "execute_result"
    }
   ],
   "source": [
    "df.describe().T.drop(\"count\", axis=1)"
   ]
  },
  {
   "cell_type": "code",
   "execution_count": 14,
   "id": "b26c15f1",
   "metadata": {},
   "outputs": [
    {
     "data": {
      "text/plain": [
       "Trip_Distance_km         50\n",
       "Time_of_Day              50\n",
       "Day_of_Week              50\n",
       "Passenger_Count          50\n",
       "Traffic_Conditions       50\n",
       "Weather                  50\n",
       "Base_Fare                50\n",
       "Per_Km_Rate              50\n",
       "Per_Minute_Rate          50\n",
       "Trip_Duration_Minutes    50\n",
       "Trip_Price               49\n",
       "dtype: int64"
      ]
     },
     "execution_count": 14,
     "metadata": {},
     "output_type": "execute_result"
    }
   ],
   "source": [
    "df.isnull().sum()"
   ]
  },
  {
   "cell_type": "code",
   "execution_count": 15,
   "id": "68413541",
   "metadata": {},
   "outputs": [
    {
     "data": {
      "text/html": [
       "<div>\n",
       "<style scoped>\n",
       "    .dataframe tbody tr th:only-of-type {\n",
       "        vertical-align: middle;\n",
       "    }\n",
       "\n",
       "    .dataframe tbody tr th {\n",
       "        vertical-align: top;\n",
       "    }\n",
       "\n",
       "    .dataframe thead th {\n",
       "        text-align: right;\n",
       "    }\n",
       "</style>\n",
       "<table border=\"1\" class=\"dataframe\">\n",
       "  <thead>\n",
       "    <tr style=\"text-align: right;\">\n",
       "      <th></th>\n",
       "      <th>Trip_Distance_km</th>\n",
       "      <th>Time_of_Day</th>\n",
       "      <th>Day_of_Week</th>\n",
       "      <th>Passenger_Count</th>\n",
       "      <th>Traffic_Conditions</th>\n",
       "      <th>Weather</th>\n",
       "      <th>Base_Fare</th>\n",
       "      <th>Per_Km_Rate</th>\n",
       "      <th>Per_Minute_Rate</th>\n",
       "      <th>Trip_Duration_Minutes</th>\n",
       "      <th>Trip_Price</th>\n",
       "    </tr>\n",
       "  </thead>\n",
       "  <tbody>\n",
       "    <tr>\n",
       "      <th>887</th>\n",
       "      <td>12.67</td>\n",
       "      <td>Morning</td>\n",
       "      <td>Weekday</td>\n",
       "      <td>1.0</td>\n",
       "      <td>Low</td>\n",
       "      <td>Snow</td>\n",
       "      <td>NaN</td>\n",
       "      <td>1.96</td>\n",
       "      <td>0.23</td>\n",
       "      <td>35.59</td>\n",
       "      <td>37.2489</td>\n",
       "    </tr>\n",
       "    <tr>\n",
       "      <th>901</th>\n",
       "      <td>2.30</td>\n",
       "      <td>Morning</td>\n",
       "      <td>Weekend</td>\n",
       "      <td>1.0</td>\n",
       "      <td>Medium</td>\n",
       "      <td>Snow</td>\n",
       "      <td>NaN</td>\n",
       "      <td>1.54</td>\n",
       "      <td>0.47</td>\n",
       "      <td>38.81</td>\n",
       "      <td>26.4327</td>\n",
       "    </tr>\n",
       "  </tbody>\n",
       "</table>\n",
       "</div>"
      ],
      "text/plain": [
       "     Trip_Distance_km Time_of_Day Day_of_Week  Passenger_Count  \\\n",
       "887             12.67     Morning     Weekday              1.0   \n",
       "901              2.30     Morning     Weekend              1.0   \n",
       "\n",
       "    Traffic_Conditions Weather  Base_Fare  Per_Km_Rate  Per_Minute_Rate  \\\n",
       "887                Low    Snow        NaN         1.96             0.23   \n",
       "901             Medium    Snow        NaN         1.54             0.47   \n",
       "\n",
       "     Trip_Duration_Minutes  Trip_Price  \n",
       "887                  35.59     37.2489  \n",
       "901                  38.81     26.4327  "
      ]
     },
     "execution_count": 15,
     "metadata": {},
     "output_type": "execute_result"
    }
   ],
   "source": [
    "df[(df[\"Weather\"] == \"Snow\") & (df[\"Base_Fare\"].isna())]"
   ]
  },
  {
   "cell_type": "code",
   "execution_count": 16,
   "id": "954b95c1",
   "metadata": {},
   "outputs": [
    {
     "data": {
      "text/html": [
       "<div>\n",
       "<style scoped>\n",
       "    .dataframe tbody tr th:only-of-type {\n",
       "        vertical-align: middle;\n",
       "    }\n",
       "\n",
       "    .dataframe tbody tr th {\n",
       "        vertical-align: top;\n",
       "    }\n",
       "\n",
       "    .dataframe thead th {\n",
       "        text-align: right;\n",
       "    }\n",
       "</style>\n",
       "<table border=\"1\" class=\"dataframe\">\n",
       "  <thead>\n",
       "    <tr style=\"text-align: right;\">\n",
       "      <th></th>\n",
       "      <th>Trip_Distance_km</th>\n",
       "      <th>Time_of_Day</th>\n",
       "      <th>Day_of_Week</th>\n",
       "      <th>Passenger_Count</th>\n",
       "      <th>Traffic_Conditions</th>\n",
       "      <th>Weather</th>\n",
       "      <th>Base_Fare</th>\n",
       "      <th>Per_Km_Rate</th>\n",
       "      <th>Per_Minute_Rate</th>\n",
       "      <th>Trip_Duration_Minutes</th>\n",
       "      <th>Trip_Price</th>\n",
       "    </tr>\n",
       "  </thead>\n",
       "  <tbody>\n",
       "    <tr>\n",
       "      <th>1</th>\n",
       "      <td>47.59</td>\n",
       "      <td>Afternoon</td>\n",
       "      <td>Weekday</td>\n",
       "      <td>1.0</td>\n",
       "      <td>High</td>\n",
       "      <td>Clear</td>\n",
       "      <td>NaN</td>\n",
       "      <td>0.62</td>\n",
       "      <td>0.43</td>\n",
       "      <td>40.57</td>\n",
       "      <td>NaN</td>\n",
       "    </tr>\n",
       "    <tr>\n",
       "      <th>25</th>\n",
       "      <td>39.47</td>\n",
       "      <td>Afternoon</td>\n",
       "      <td>Weekday</td>\n",
       "      <td>1.0</td>\n",
       "      <td>Low</td>\n",
       "      <td>Clear</td>\n",
       "      <td>NaN</td>\n",
       "      <td>NaN</td>\n",
       "      <td>0.35</td>\n",
       "      <td>7.59</td>\n",
       "      <td>83.6965</td>\n",
       "    </tr>\n",
       "    <tr>\n",
       "      <th>43</th>\n",
       "      <td>45.56</td>\n",
       "      <td>Afternoon</td>\n",
       "      <td>Weekday</td>\n",
       "      <td>NaN</td>\n",
       "      <td>Low</td>\n",
       "      <td>Clear</td>\n",
       "      <td>NaN</td>\n",
       "      <td>0.90</td>\n",
       "      <td>0.50</td>\n",
       "      <td>80.80</td>\n",
       "      <td>85.8840</td>\n",
       "    </tr>\n",
       "    <tr>\n",
       "      <th>50</th>\n",
       "      <td>48.51</td>\n",
       "      <td>Evening</td>\n",
       "      <td>Weekday</td>\n",
       "      <td>3.0</td>\n",
       "      <td>High</td>\n",
       "      <td>Rain</td>\n",
       "      <td>NaN</td>\n",
       "      <td>1.00</td>\n",
       "      <td>0.48</td>\n",
       "      <td>110.18</td>\n",
       "      <td>104.1764</td>\n",
       "    </tr>\n",
       "    <tr>\n",
       "      <th>92</th>\n",
       "      <td>38.28</td>\n",
       "      <td>Afternoon</td>\n",
       "      <td>Weekday</td>\n",
       "      <td>1.0</td>\n",
       "      <td>Medium</td>\n",
       "      <td>Clear</td>\n",
       "      <td>NaN</td>\n",
       "      <td>1.08</td>\n",
       "      <td>0.39</td>\n",
       "      <td>51.33</td>\n",
       "      <td>63.5611</td>\n",
       "    </tr>\n",
       "  </tbody>\n",
       "</table>\n",
       "</div>"
      ],
      "text/plain": [
       "    Trip_Distance_km Time_of_Day Day_of_Week  Passenger_Count  \\\n",
       "1              47.59   Afternoon     Weekday              1.0   \n",
       "25             39.47   Afternoon     Weekday              1.0   \n",
       "43             45.56   Afternoon     Weekday              NaN   \n",
       "50             48.51     Evening     Weekday              3.0   \n",
       "92             38.28   Afternoon     Weekday              1.0   \n",
       "\n",
       "   Traffic_Conditions Weather  Base_Fare  Per_Km_Rate  Per_Minute_Rate  \\\n",
       "1                High   Clear        NaN         0.62             0.43   \n",
       "25                Low   Clear        NaN          NaN             0.35   \n",
       "43                Low   Clear        NaN         0.90             0.50   \n",
       "50               High    Rain        NaN         1.00             0.48   \n",
       "92             Medium   Clear        NaN         1.08             0.39   \n",
       "\n",
       "    Trip_Duration_Minutes  Trip_Price  \n",
       "1                   40.57         NaN  \n",
       "25                   7.59     83.6965  \n",
       "43                  80.80     85.8840  \n",
       "50                 110.18    104.1764  \n",
       "92                  51.33     63.5611  "
      ]
     },
     "execution_count": 16,
     "metadata": {},
     "output_type": "execute_result"
    }
   ],
   "source": [
    "df[df[\"Base_Fare\"].isnull()].head()"
   ]
  },
  {
   "cell_type": "code",
   "execution_count": 17,
   "id": "e520bebc",
   "metadata": {},
   "outputs": [
    {
     "data": {
      "text/plain": [
       "(266, 11)"
      ]
     },
     "execution_count": 17,
     "metadata": {},
     "output_type": "execute_result"
    }
   ],
   "source": [
    "# check total rows where at least 1 column is null\n",
    "df[df[[\"Trip_Distance_km\", \"Base_Fare\", \"Per_Km_Rate\", \"Per_Minute_Rate\", \"Trip_Duration_Minutes\", \"Trip_Price\"]].isnull().any(axis=1)].shape"
   ]
  },
  {
   "cell_type": "markdown",
   "id": "e9c99699",
   "metadata": {},
   "source": [
    "## Base fare median/mean\n",
    "Looking at base fare median and mean to see if I should fill nulls with these values"
   ]
  },
  {
   "cell_type": "code",
   "execution_count": 18,
   "id": "d92338e0",
   "metadata": {},
   "outputs": [
    {
     "data": {
      "text/plain": [
       "Time_of_Day  Day_of_Week  Traffic_Conditions  Weather\n",
       "Afternoon    Weekday      High                Clear      3.03\n",
       "                                              Rain       3.67\n",
       "                                              Snow       2.93\n",
       "                          Low                 Clear      3.51\n",
       "                                              Rain       3.05\n",
       "                                                         ... \n",
       "Night        Weekend      Low                 Clear      4.33\n",
       "                                              Rain       3.29\n",
       "                          Medium              Clear      3.80\n",
       "                                              Rain       4.41\n",
       "                                              Snow       2.05\n",
       "Name: Base_Fare, Length: 65, dtype: float64"
      ]
     },
     "execution_count": 18,
     "metadata": {},
     "output_type": "execute_result"
    }
   ],
   "source": [
    "df.groupby(\n",
    "    [\"Time_of_Day\", \"Day_of_Week\", \"Traffic_Conditions\", \"Weather\"]\n",
    ")[\"Base_Fare\"].median()"
   ]
  },
  {
   "cell_type": "code",
   "execution_count": 19,
   "id": "3f53671e",
   "metadata": {},
   "outputs": [
    {
     "data": {
      "text/plain": [
       "Time_of_Day  Day_of_Week  Traffic_Conditions  Weather\n",
       "Afternoon    Weekday      High                Clear      3.285556\n",
       "                                              Rain       3.683000\n",
       "                                              Snow       2.870000\n",
       "                          Low                 Clear      3.567843\n",
       "                                              Rain       3.180000\n",
       "                                                           ...   \n",
       "Night        Weekend      Low                 Clear      3.901429\n",
       "                                              Rain       3.150000\n",
       "                          Medium              Clear      3.683750\n",
       "                                              Rain       3.870000\n",
       "                                              Snow       2.050000\n",
       "Name: Base_Fare, Length: 65, dtype: float64"
      ]
     },
     "execution_count": 19,
     "metadata": {},
     "output_type": "execute_result"
    }
   ],
   "source": [
    "df.groupby(\n",
    "    [\"Time_of_Day\", \"Day_of_Week\", \"Traffic_Conditions\", \"Weather\"]\n",
    ")[\"Base_Fare\"].mean()"
   ]
  },
  {
   "cell_type": "markdown",
   "id": "8e83aed5",
   "metadata": {},
   "source": [
    "## Filling nulls\n",
    "On rows which contain only a single null in the trip price calculation I applied a rule based calculation.\n",
    "And decided to fill base fare with mean values where the row contain more than a single null for the calculation"
   ]
  },
  {
   "cell_type": "code",
   "execution_count": 20,
   "id": "b1e3860e",
   "metadata": {},
   "outputs": [],
   "source": [
    "rules = {\n",
    "    \"Trip_Price\": lambda r: r[\"Base_Fare\"] + (r[\"Trip_Distance_km\"] * r[\"Per_Km_Rate\"]) + (r[\"Trip_Duration_Minutes\"] * r[\"Per_Minute_Rate\"]),\n",
    "    \n",
    "    \"Base_Fare\": lambda r: r[\"Trip_Price\"] - (r[\"Trip_Distance_km\"] * r[\"Per_Km_Rate\"]) - (r[\"Trip_Duration_Minutes\"] * r[\"Per_Minute_Rate\"]),\n",
    "    \n",
    "    \"Trip_Distance_km\": lambda r: (r[\"Trip_Price\"] - r[\"Base_Fare\"] - (r[\"Trip_Duration_Minutes\"] * r[\"Per_Minute_Rate\"])) / r[\"Per_Km_Rate\"],\n",
    "    \n",
    "    \"Per_Km_Rate\": lambda r: (r[\"Trip_Price\"] - r[\"Base_Fare\"] - (r[\"Trip_Duration_Minutes\"] * r[\"Per_Minute_Rate\"])) / r[\"Trip_Distance_km\"],\n",
    "    \n",
    "    \"Trip_Duration_Minutes\": lambda r: (r[\"Trip_Price\"] - r[\"Base_Fare\"] - (r[\"Trip_Distance_km\"] * r[\"Per_Km_Rate\"])) / r[\"Per_Minute_Rate\"],\n",
    "    \n",
    "    \"Per_Minute_Rate\": lambda r: (r[\"Trip_Price\"] - r[\"Base_Fare\"] - (r[\"Trip_Distance_km\"] * r[\"Per_Km_Rate\"])) / r[\"Trip_Duration_Minutes\"]   \n",
    "    \n",
    "}"
   ]
  },
  {
   "cell_type": "code",
   "execution_count": 21,
   "id": "eefbb239",
   "metadata": {},
   "outputs": [],
   "source": [
    "df_filled = df.copy()\n",
    "\n",
    "updated = True\n",
    "while updated:\n",
    "    updated = False\n",
    "    \n",
    "    for col, func in rules.items():\n",
    "        mask = df_filled[col].isnull()\n",
    "        \n",
    "        if mask.any():\n",
    "            before = df_filled.loc[mask, col].copy()\n",
    "            df_filled.loc[mask, col] = df_filled.loc[mask].apply(func, axis=1)\n",
    "            \n",
    "            if not df_filled.loc[mask, col].equals(before):\n",
    "                updated = True\n",
    "    \n",
    "    bf_before = df_filled[\"Base_Fare\"].copy()\n",
    "    df_filled[\"Base_Fare\"] = df_filled[\"Base_Fare\"].fillna(df_filled.groupby([\"Time_of_Day\", \"Day_of_Week\", \"Traffic_Conditions\", \"Weather\"]\n",
    "    )[\"Base_Fare\"].transform(\"mean\").round(2))\n",
    "    \n",
    "    if not df_filled[\"Base_Fare\"].equals(bf_before):\n",
    "        updated = True"
   ]
  },
  {
   "cell_type": "code",
   "execution_count": 22,
   "id": "7bb740de",
   "metadata": {},
   "outputs": [
    {
     "data": {
      "text/plain": [
       "Trip_Distance_km          5\n",
       "Time_of_Day              50\n",
       "Day_of_Week              50\n",
       "Passenger_Count          50\n",
       "Traffic_Conditions       50\n",
       "Weather                  50\n",
       "Base_Fare                 0\n",
       "Per_Km_Rate              10\n",
       "Per_Minute_Rate           5\n",
       "Trip_Duration_Minutes    11\n",
       "Trip_Price               11\n",
       "dtype: int64"
      ]
     },
     "execution_count": 22,
     "metadata": {},
     "output_type": "execute_result"
    }
   ],
   "source": [
    "df_filled.isnull().sum()"
   ]
  },
  {
   "cell_type": "code",
   "execution_count": 23,
   "id": "bc28fb9e",
   "metadata": {},
   "outputs": [
    {
     "data": {
      "text/plain": [
       "(21, 11)"
      ]
     },
     "execution_count": 23,
     "metadata": {},
     "output_type": "execute_result"
    }
   ],
   "source": [
    "df_filled[df_filled[[\"Trip_Distance_km\", \"Base_Fare\", \"Per_Km_Rate\", \"Per_Minute_Rate\", \"Trip_Duration_Minutes\", \"Trip_Price\"]].isnull().any(axis=1)].shape"
   ]
  },
  {
   "cell_type": "code",
   "execution_count": 37,
   "id": "8617a568",
   "metadata": {},
   "outputs": [
    {
     "data": {
      "text/plain": [
       "(21, 11)"
      ]
     },
     "execution_count": 37,
     "metadata": {},
     "output_type": "execute_result"
    }
   ],
   "source": [
    "df_filled[df_filled[[\"Trip_Distance_km\", \"Base_Fare\", \"Per_Km_Rate\", \"Per_Minute_Rate\", \"Trip_Duration_Minutes\", \"Trip_Price\"]].isnull().any(axis=1)].shape"
   ]
  },
  {
   "cell_type": "markdown",
   "id": "8fc48e97",
   "metadata": {},
   "source": [
    "## Droping rows\n",
    "Decided to drop the remaining rows with more than one null in the trip price calculation.\n",
    "Since the features containing nulls have a greater impact on the trip price than base fare and these rows only makes up 2.1% of the data.\n",
    "Removing these makes the model results more reliable."
   ]
  },
  {
   "cell_type": "code",
   "execution_count": 26,
   "id": "d0772bb4",
   "metadata": {},
   "outputs": [],
   "source": [
    "df_clean = df_filled.dropna(subset=[\"Trip_Distance_km\", \"Per_Km_Rate\", \"Per_Minute_Rate\", \"Trip_Duration_Minutes\", \"Trip_Price\"])"
   ]
  },
  {
   "cell_type": "code",
   "execution_count": 27,
   "id": "f3be802b",
   "metadata": {},
   "outputs": [
    {
     "data": {
      "text/plain": [
       "Trip_Distance_km          0\n",
       "Time_of_Day              50\n",
       "Day_of_Week              48\n",
       "Passenger_Count          49\n",
       "Traffic_Conditions       49\n",
       "Weather                  48\n",
       "Base_Fare                 0\n",
       "Per_Km_Rate               0\n",
       "Per_Minute_Rate           0\n",
       "Trip_Duration_Minutes     0\n",
       "Trip_Price                0\n",
       "dtype: int64"
      ]
     },
     "execution_count": 27,
     "metadata": {},
     "output_type": "execute_result"
    }
   ],
   "source": [
    "df_clean.isnull().sum()"
   ]
  },
  {
   "cell_type": "code",
   "execution_count": null,
   "id": "d8c2b74f",
   "metadata": {},
   "outputs": [],
   "source": [
    "from sklearn.model_selection import train_test_split\n",
    "from sklearn.preprocessing import StandardScaler\n",
    "from sklearn.metrics import root_mean_squared_error, accuracy_score\n",
    "from sklearn.ensemble import RandomForestClassifier, RandomForestRegressor\n",
    "from sklearn.linear_model import LogisticRegression, LinearRegression, Ridge\n",
    "from sklearn.neighbors import KNeighborsClassifier, KNeighborsRegressor\n",
    "from xgboost import XGBClassifier, XGBRegressor\n",
    "from sklearn.preprocessing import LabelEncoder\n",
    "\n",
    "classification_models = [\n",
    "    RandomForestClassifier(),\n",
    "    XGBClassifier(),\n",
    "    LogisticRegression(),\n",
    "    KNeighborsClassifier()\n",
    "]\n",
    "\n",
    "regression_models = [\n",
    "    RandomForestRegressor(),\n",
    "    XGBRegressor(),\n",
    "    LinearRegression(),\n",
    "    Ridge(),\n",
    "    KNeighborsRegressor()\n",
    "]\n",
    "\n",
    "def train_eval_regression(df: pd.DataFrame, target_column: str):\n",
    "    df = df[df[target_column].notnull()].dropna()\n",
    "    X, y = df.drop(target_column, axis=1), df[target_column]\n",
    "    \n",
    "    X_encoded = pd.get_dummies(X, drop_first=True)\n",
    "    \n",
    "    X_train, X_test, y_train, y_test = train_test_split(\n",
    "    X_encoded, y, test_size=0.33, random_state=42)\n",
    "    \n",
    "    scaler = StandardScaler()\n",
    "    X_train_scaled = scaler.fit_transform(X_train)\n",
    "    X_test_scaled = scaler.transform(X_test)\n",
    "    \n",
    "    best_score = float(\"inf\")\n",
    "    best_model = None\n",
    "    \n",
    "    for model in regression_models:\n",
    "        if isinstance(model, KNeighborsRegressor):\n",
    "            for k in range(1,15):\n",
    "                model.n_neighbors = k\n",
    "                model.fit(X_train_scaled, y_train)\n",
    "                y_pred = model.predict(X_test_scaled)\n",
    "                \n",
    "                score = root_mean_squared_error(y_test, y_pred)\n",
    "                \n",
    "                if score < best_score:\n",
    "                    best_score = score\n",
    "                    best_model = model\n",
    "        else:\n",
    "            model.fit(X_train_scaled, y_train)\n",
    "            y_pred = model.predict(X_test_scaled)\n",
    "            score = root_mean_squared_error(y_test, y_pred)\n",
    "            \n",
    "            if score < best_score:\n",
    "                best_score = score\n",
    "                best_model = model\n",
    "    \n",
    "    return best_model\n",
    "\n",
    "def train_eval_classification(df: pd.DataFrame, target_column: str):\n",
    "    df = df[df[target_column].notnull()].dropna()\n",
    "    \n",
    "    X, y = df.drop(target_column, axis=1), df[target_column]\n",
    "    \n",
    "    X_encoded = pd.get_dummies(X, drop_first=True)\n",
    "    \n",
    "    # had to use labelEncoder on models that cant use strings columns. like one-hot encoding\n",
    "    le = None\n",
    "    if y.dtype not in [\"int64\", \"float64\"]:\n",
    "        le = LabelEncoder()\n",
    "        y = le.fit_transform(y)\n",
    "    \n",
    "    X_train, X_test, y_train, y_test = train_test_split(\n",
    "    X_encoded, y, test_size=0.33, random_state=42)\n",
    "    \n",
    "    best_score = float(\"-inf\")\n",
    "    best_model = None\n",
    "    \n",
    "    for model in classification_models:\n",
    "        # scale the data after models that needs it\n",
    "        if isinstance(model, (LogisticRegression, KNeighborsClassifier)):\n",
    "            scaler = StandardScaler()\n",
    "            X_train_scaled = scaler.fit_transform(X_train)\n",
    "            X_test_scaled = scaler.transform(X_test)\n",
    "        else:\n",
    "            X_train_scaled, X_test_scaled = X_train, X_test\n",
    "        \n",
    "        if isinstance(model, KNeighborsClassifier):\n",
    "            for k in range(1,15):\n",
    "                model.n_neighbors = k\n",
    "                model.fit(X_train_scaled, y_train)\n",
    "                y_pred = model.predict(X_test_scaled)\n",
    "                \n",
    "                score = accuracy_score(y_test, y_pred)\n",
    "                \n",
    "                if score > best_score:\n",
    "                    best_score = score\n",
    "                    best_model = model\n",
    "        else:\n",
    "            model.fit(X_train_scaled, y_train)\n",
    "            y_pred = model.predict(X_test_scaled)\n",
    "            score = accuracy_score(y_test, y_pred)\n",
    "            \n",
    "            if score > best_score:\n",
    "                best_score = score\n",
    "                best_model = model\n",
    "    \n",
    "    return best_model, le"
   ]
  },
  {
   "cell_type": "code",
   "execution_count": 104,
   "id": "b3ccc127",
   "metadata": {},
   "outputs": [
    {
     "name": "stdout",
     "output_type": "stream",
     "text": [
      "(LogisticRegression(), LabelEncoder())\n"
     ]
    }
   ],
   "source": [
    "best_model = train_eval_classification(df, \"Weather\")\n",
    "print(best_model)"
   ]
  }
 ],
 "metadata": {
  "kernelspec": {
   "display_name": "taxi_prediction_fullstack_andreas_s_opa24",
   "language": "python",
   "name": "python3"
  },
  "language_info": {
   "codemirror_mode": {
    "name": "ipython",
    "version": 3
   },
   "file_extension": ".py",
   "mimetype": "text/x-python",
   "name": "python",
   "nbconvert_exporter": "python",
   "pygments_lexer": "ipython3",
   "version": "3.12.3"
  }
 },
 "nbformat": 4,
 "nbformat_minor": 5
}
